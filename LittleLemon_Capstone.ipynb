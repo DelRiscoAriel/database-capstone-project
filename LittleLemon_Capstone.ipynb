{
 "cells": [
  {
   "cell_type": "code",
   "execution_count": 13,
   "id": "96905fd0-8501-40dc-9cbe-77cba7d70504",
   "metadata": {},
   "outputs": [],
   "source": [
    "import mysql.connector as connector\n",
    "connection = connector.connect(user='root', password='RfvtgbY321.')\n",
    "cursor = connection.cursor()"
   ]
  },
  {
   "cell_type": "code",
   "execution_count": 14,
   "id": "9fd99a03-2fe1-4731-99d2-9442c4b215d2",
   "metadata": {},
   "outputs": [
    {
     "name": "stdout",
     "output_type": "stream",
     "text": [
      "('bookings',)\n",
      "('customers',)\n",
      "('deliverystatus',)\n",
      "('employees',)\n",
      "('manus',)\n",
      "('orders',)\n",
      "('ordersview',)\n"
     ]
    }
   ],
   "source": [
    "use_DB = \"\"\"USE LittleLemonDM\"\"\"\n",
    "cursor.execute(use_DB)\n",
    "\n",
    "cursor.execute(\"SHOW TABLES\") \n",
    "# Print table names \n",
    "for table in cursor: \n",
    "    print(table)"
   ]
  },
  {
   "cell_type": "code",
   "execution_count": 15,
   "id": "eef01660-ddb4-45dc-8cc6-a8fe1794916a",
   "metadata": {},
   "outputs": [
    {
     "name": "stdout",
     "output_type": "stream",
     "text": [
      "('FullName', 'PhoneNumber')\n",
      "('Ariel Del Risco', '7863703966')\n"
     ]
    }
   ],
   "source": [
    "select_stmt = \"\"\" SELECT CONCAT(FirstName, \" \", LastName) AS FullName, PhoneNumber FROM Customers\n",
    "WHERE CustomerID = ANY (SELECT CustomerID From Bookings Where BookingID = (SELECT BookingID From Orders WHERE TotalCost > 60));\n",
    "\"\"\"\n",
    "\n",
    "cursor.execute(select_stmt)\n",
    "\n",
    "results = cursor.fetchall()\n",
    "columns = cursor.column_names\n",
    "\n",
    "print(columns)\n",
    "for result in results:\n",
    "    print(result)"
   ]
  },
  {
   "cell_type": "code",
   "execution_count": null,
   "id": "5d969309-e423-4b40-a1f1-b831757cf333",
   "metadata": {},
   "outputs": [],
   "source": []
  }
 ],
 "metadata": {
  "kernelspec": {
   "display_name": "Python 3 (ipykernel)",
   "language": "python",
   "name": "python3"
  },
  "language_info": {
   "codemirror_mode": {
    "name": "ipython",
    "version": 3
   },
   "file_extension": ".py",
   "mimetype": "text/x-python",
   "name": "python",
   "nbconvert_exporter": "python",
   "pygments_lexer": "ipython3",
   "version": "3.12.3"
  }
 },
 "nbformat": 4,
 "nbformat_minor": 5
}
